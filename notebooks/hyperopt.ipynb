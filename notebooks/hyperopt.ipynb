{
 "cells": [
  {
   "cell_type": "code",
   "execution_count": 1,
   "metadata": {},
   "outputs": [],
   "source": [
    "import time \n",
    "import pprint\n",
    "import pickle\n",
    "import numpy as np\n",
    "\n",
    "from hyperopt import fmin, tpe, hp, STATUS_OK, Trials\n",
    "from hyperspace.benchmarks import StyblinskiTang\n",
    "from skopt import gp_minimize\n",
    "\n",
    "from scipy.optimize import OptimizeResult\n",
    "\n",
    "\n",
    "pp = pprint.PrettyPrinter(indent=4)"
   ]
  },
  {
   "cell_type": "code",
   "execution_count": 2,
   "metadata": {},
   "outputs": [
    {
     "name": "stdout",
     "output_type": "stream",
     "text": [
      "100%|██████████| 100/100 [00:00<00:00, 165.05it/s, best loss: -76.91377604101976]\n",
      "{'0': -3.0663105938518846, '1': -3.1276325746396036}\n"
     ]
    }
   ],
   "source": [
    "objective = StyblinskiTang(dims=2)\n",
    "\n",
    "trials = Trials()\n",
    "\n",
    "space = [\n",
    "    hp.uniform('0', -5, 5),\n",
    "    hp.uniform('1', -5, 5),\n",
    "]\n",
    "\n",
    "best = fmin(objective,\n",
    "    space=space,\n",
    "    algo=tpe.suggest,\n",
    "    trials=trials,\n",
    "    max_evals=100)\n",
    "\n",
    "print(best)"
   ]
  },
  {
   "cell_type": "code",
   "execution_count": 3,
   "metadata": {},
   "outputs": [
    {
     "name": "stdout",
     "output_type": "stream",
     "text": [
      "{   'book_time': datetime.datetime(2019, 3, 13, 1, 57, 42, 826000),\n",
      "    'exp_key': None,\n",
      "    'misc': {   'cmd': ('domain_attachment', 'FMinIter_Domain'),\n",
      "                'idxs': {'0': [0], '1': [0]},\n",
      "                'tid': 0,\n",
      "                'vals': {'0': [-2.601201301415804], '1': [4.693710959846706]},\n",
      "                'workdir': None},\n",
      "    'owner': None,\n",
      "    'refresh_time': datetime.datetime(2019, 3, 13, 1, 57, 42, 826000),\n",
      "    'result': {'loss': 40.42574003214093, 'status': 'ok'},\n",
      "    'spec': None,\n",
      "    'state': 2,\n",
      "    'tid': 0,\n",
      "    'version': 0}\n"
     ]
    }
   ],
   "source": [
    "pp.pprint(trials.trials[0])"
   ]
  },
  {
   "cell_type": "code",
   "execution_count": 4,
   "metadata": {},
   "outputs": [
    {
     "data": {
      "text/plain": [
       "100"
      ]
     },
     "execution_count": 4,
     "metadata": {},
     "output_type": "execute_result"
    }
   ],
   "source": [
    "len(trials.trials)"
   ]
  },
  {
   "cell_type": "markdown",
   "metadata": {},
   "source": [
    "## Comparison with Bayesian Optimization"
   ]
  },
  {
   "cell_type": "code",
   "execution_count": 27,
   "metadata": {},
   "outputs": [],
   "source": [
    "bounds = np.tile((-5., 5.), (2, 1))"
   ]
  },
  {
   "cell_type": "code",
   "execution_count": 28,
   "metadata": {},
   "outputs": [],
   "source": [
    "res = gp_minimize(objective, bounds, n_calls=100)"
   ]
  },
  {
   "cell_type": "code",
   "execution_count": 29,
   "metadata": {},
   "outputs": [
    {
     "data": {
      "text/plain": [
       "-181.64915626952801342"
      ]
     },
     "execution_count": 29,
     "metadata": {},
     "output_type": "execute_result"
    }
   ],
   "source": [
    "res.fun"
   ]
  },
  {
   "cell_type": "markdown",
   "metadata": {},
   "source": [
    "## Create better format for results"
   ]
  },
  {
   "cell_type": "code",
   "execution_count": 6,
   "metadata": {},
   "outputs": [],
   "source": [
    "def create_result(trials, maximize=False):\n",
    "    \"\"\"Create a Scipy OptimizeResult object for hyperopt.\"\"\"\n",
    "    res = OptimizeResult()\n",
    "    \n",
    "    x_iters = []\n",
    "    func_vals = []\n",
    "    for i in range(len(trials)):\n",
    "        trial = trials.trials[i]\n",
    "        x_iters.append(trial['misc']['vals'])\n",
    "        func_vals.append(trial['result']['loss'])\n",
    "    \n",
    "    res.x_iters = x_iters\n",
    "    res.func_vals = func_vals\n",
    "    \n",
    "    if maximize:\n",
    "        res.fun = np.max(func_vals)\n",
    "        max_idx = np.argmax(func_vals)\n",
    "        res.x = res.x_iters[max_idx]\n",
    "    else:\n",
    "        res.fun = np.min(func_vals)\n",
    "        min_idx = np.argmin(func_vals)\n",
    "        res.x = res.x_iters[min_idx]\n",
    "        \n",
    "    return res"
   ]
  },
  {
   "cell_type": "code",
   "execution_count": 7,
   "metadata": {},
   "outputs": [],
   "source": [
    "res = create_result(trials, maximize=False)"
   ]
  },
  {
   "cell_type": "code",
   "execution_count": 8,
   "metadata": {},
   "outputs": [
    {
     "data": {
      "text/plain": [
       "-76.91377604101976"
      ]
     },
     "execution_count": 8,
     "metadata": {},
     "output_type": "execute_result"
    }
   ],
   "source": [
    "res.fun"
   ]
  },
  {
   "cell_type": "code",
   "execution_count": 9,
   "metadata": {},
   "outputs": [
    {
     "data": {
      "text/plain": [
       "{'0': [-3.0663105938518846], '1': [-3.1276325746396036]}"
      ]
     },
     "execution_count": 9,
     "metadata": {},
     "output_type": "execute_result"
    }
   ],
   "source": [
    "res.x"
   ]
  },
  {
   "cell_type": "code",
   "execution_count": null,
   "metadata": {},
   "outputs": [],
   "source": []
  }
 ],
 "metadata": {
  "kernelspec": {
   "display_name": "Python 3",
   "language": "python",
   "name": "python3"
  },
  "language_info": {
   "codemirror_mode": {
    "name": "ipython",
    "version": 3
   },
   "file_extension": ".py",
   "mimetype": "text/x-python",
   "name": "python",
   "nbconvert_exporter": "python",
   "pygments_lexer": "ipython3",
   "version": "3.7.1"
  }
 },
 "nbformat": 4,
 "nbformat_minor": 2
}
