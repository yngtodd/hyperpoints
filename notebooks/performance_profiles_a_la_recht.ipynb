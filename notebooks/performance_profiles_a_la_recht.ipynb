{
 "cells": [
  {
   "cell_type": "markdown",
   "metadata": {},
   "source": [
    "## Performance Profiles a la Ben Recht\n",
    "\n",
    "https://nbviewer.jupyter.org/url/argmin.net/code/atari_performance_profiles.ipynb"
   ]
  },
  {
   "cell_type": "code",
   "execution_count": 3,
   "metadata": {},
   "outputs": [],
   "source": [
    "import os\n",
    "import numpy as np\n",
    "import matplotlib.pyplot as plt\n",
    "from scipy.special import betainc\n",
    "\n",
    "from hyperpoints.utils import gather_rewards\n",
    "from hyperpoints.utils.plots import reward_stats"
   ]
  },
  {
   "cell_type": "code",
   "execution_count": 54,
   "metadata": {},
   "outputs": [],
   "source": [
    "def poor_man_welch_test(target_mean,target_std,target_n,comp_mean,comp_std,comp_n):\n",
    "    # Computes a Welch test to see if the comparitor sample is larger than the target \n",
    "    # sample. This is a one-sided test.\n",
    "    # This works from sufficient statistics alone, and that's because this is all that \n",
    "    # people report in their papers. I'm no more happy about this than you are.\n",
    "    \n",
    "    nu = ((target_std**2/target_n + comp_std**2/comp_n)**2/\n",
    "         (target_std**4/target_n/(target_n-1)+ comp_std**4/comp_n/(comp_n-1)))\n",
    "    t_stat = ((target_mean-comp_mean)\n",
    "              /np.sqrt(target_std**2/target_n+comp_std**2/comp_n))\n",
    "            \n",
    "    return 0.5*betainc(nu/2,1/2,nu/(t_stat**2+nu))\n",
    "\n",
    "def optimality_deviation(data_means,data_std,data_n):\n",
    "    # compute the deviation from optimality as given by the log-likehood of a Welch t-test \n",
    "    num_prob, num_method = data_means.shape\n",
    "    likelihood = np.zeros((num_prob,num_method))    \n",
    "    for prob in range(num_prob):\n",
    "        best_idx = np.argmax(data_means[prob,:])\n",
    "\n",
    "        # compute the Welsh t-test to determine the p-value associated \n",
    "        # with a method having mean higher than the observed highest reward\n",
    "        for method in range(num_method):\n",
    "            likelihood[prob,method] = -np.log10(poor_man_welch_test(\n",
    "                                        data_means[prob,best_idx],data_std[prob,best_idx],data_n[prob,best_idx],\n",
    "                                        data_means[prob,method],data_std[prob,method],data_n[prob,method]))\n",
    "\n",
    "        # denote the likelihood of the best observation as being 1. This is merely counting \n",
    "        # the number of times a method achieves the highest mean.\n",
    "        likelihood[prob,best_idx] = 0\n",
    "    return likelihood\n",
    "\n",
    "def welch_t_perf_prof(data_means,data_std,data_n,data_names,tau_min=0.3,tau_max=3.0,npts=100):\n",
    "    num_prob, num_method = data_means.shape\n",
    "    rho = np.zeros((npts,num_method))\n",
    "    \n",
    "    # This is the d[p,m] function discussed in the blog.\n",
    "    # For this post, I'm using the log-likelihood of the Welch t-test. \n",
    "    # But this is where you'd write whatever method you think would work better.\n",
    "    dist_like_fun = optimality_deviation(data_means,data_std,data_n)\n",
    "             \n",
    "    # Compute the cumulative rates of the distance being less than a fixed threshold\n",
    "    tau = np.linspace(tau_min,tau_max,npts)\n",
    "    for method in range(num_method):\n",
    "        for k in range(npts):\n",
    "            rho[k,method] = np.sum(dist_like_fun[:,method]<tau[k])/num_prob\n",
    "    \n",
    "    # make plot\n",
    "    colors = [ '#2D328F', '#F15C19',\"#81b13c\",\"#ca49ac\",\"000000\"]\n",
    "    label_fontsize = 16\n",
    "    tick_fontsize = 14\n",
    "    linewidth = 3\n",
    "    \n",
    "    for method in range(num_method):\n",
    "        plt.plot(tau,rho[:,method],color=colors[method],linewidth=linewidth,label=data_names[method])\n",
    "        \n",
    "    plt.xlabel(r'$-\\log_{10}(\\tau)$',fontsize=label_fontsize)\n",
    "    plt.ylabel(r'fraction with $p_{val} \\geq \\tau$',fontsize=label_fontsize)\n",
    "    plt.legend(fontsize=label_fontsize)\n",
    "    plt.xticks(fontsize=tick_fontsize)\n",
    "    plt.yticks(fontsize=tick_fontsize)\n",
    "\n",
    "    plt.grid(True)\n",
    "    plt.show()"
   ]
  },
  {
   "cell_type": "code",
   "execution_count": 4,
   "metadata": {},
   "outputs": [],
   "source": [
    "def get_a2c_path(basepath: str, experiment: str) -> str:\n",
    "    return os.path.join(basepath, experiment + '_breakout_a2c')\n",
    "\n",
    "def get_acer_path(basepath: str, experiment: str) -> str:\n",
    "    return os.path.join(basepath, experiment + '_enduro_acer')\n",
    "\n",
    "def get_ppo_path(basepath: str, experiment: str) -> str:\n",
    "    return os.path.join(basepath, experiment + '_qbert_ppo')"
   ]
  },
  {
   "cell_type": "code",
   "execution_count": 6,
   "metadata": {},
   "outputs": [],
   "source": [
    "def reward_stats(rewards):\n",
    "    \"\"\"Get mean and standard deviation of rewards.\n",
    "\n",
    "    Parameters\n",
    "    ----------\n",
    "    walks : pd.DataFrame\n",
    "      Dataframe containing random walks as columns.\n",
    "    \"\"\"\n",
    "    mean = np.array(rewards.mean())\n",
    "    std_dev = np.array(rewards.std())\n",
    "    return mean, std_dev"
   ]
  },
  {
   "cell_type": "code",
   "execution_count": 7,
   "metadata": {},
   "outputs": [],
   "source": [
    "def get_stats(path, dim=0):\n",
    "    \"\"\"Get stats across the various seeds\"\"\"\n",
    "    rewards = gather_rewards(path)\n",
    "    mean, std_dev = reward_stats(rewards)\n",
    "    return rewards, mean, std_dev"
   ]
  },
  {
   "cell_type": "code",
   "execution_count": 26,
   "metadata": {},
   "outputs": [],
   "source": [
    "# Test data from Ben Recht's blog\n",
    "blob_data = np.genfromtxt('blob.csv', delimiter=',')\n",
    "dqn_data = np.genfromtxt('dqn.csv', delimiter=',')"
   ]
  },
  {
   "cell_type": "markdown",
   "metadata": {},
   "source": [
    "### A2C Breakout"
   ]
  },
  {
   "cell_type": "code",
   "execution_count": 5,
   "metadata": {},
   "outputs": [],
   "source": [
    "path = '/Users/yngtodd/src/develop/vel/output/openai'\n",
    "\n",
    "hyperspace_a2c = get_a2c_path(path, 'hyperspace')\n",
    "hyperband_a2c = get_a2c_path(path, 'hyperband')\n",
    "skopt_a2c = get_a2c_path(path, 'skopt')\n",
    "random_a2c = get_a2c_path(path, 'random')"
   ]
  },
  {
   "cell_type": "code",
   "execution_count": 8,
   "metadata": {},
   "outputs": [
    {
     "name": "stdout",
     "output_type": "stream",
     "text": [
      "Number of results: 22\n"
     ]
    }
   ],
   "source": [
    "hs_a2c_rewards, hs_a2c_mean, hs_a2c_stddev = get_stats(hyperspace_a2c)"
   ]
  },
  {
   "cell_type": "code",
   "execution_count": 9,
   "metadata": {},
   "outputs": [
    {
     "name": "stdout",
     "output_type": "stream",
     "text": [
      "Number of results: 30\n"
     ]
    }
   ],
   "source": [
    "hb_a2c_rewards, hb_a2c_mean, hb_a2c_stddev = get_stats(hyperband_a2c)"
   ]
  },
  {
   "cell_type": "code",
   "execution_count": 50,
   "metadata": {},
   "outputs": [
    {
     "name": "stdout",
     "output_type": "stream",
     "text": [
      "Number of results: 55\n"
     ]
    }
   ],
   "source": [
    "skopt_a2c_rewards, skopt_a2c_means, skopt_a2c_stddev = get_stats(skopt_a2c)"
   ]
  },
  {
   "cell_type": "code",
   "execution_count": 51,
   "metadata": {},
   "outputs": [
    {
     "name": "stdout",
     "output_type": "stream",
     "text": [
      "Number of results: 50\n"
     ]
    }
   ],
   "source": [
    "_, rand_a2c_means, rand_a2c_stddev = get_stats(random_a2c)"
   ]
  },
  {
   "cell_type": "code",
   "execution_count": 68,
   "metadata": {
    "scrolled": true
   },
   "outputs": [
    {
     "data": {
      "image/png": "[encoded data removed]",
      "text/plain": [
       "<Figure size 432x288 with 1 Axes>"
      ]
     },
     "metadata": {
      "needs_background": "light"
     },
     "output_type": "display_data"
    }
   ],
   "source": [
    "n_frames = int(1e7)\n",
    "\n",
    "data_means = np.vstack((\n",
    "    hs_a2c_mean, \n",
    "    hb_a2c_mean[:22], \n",
    "    skopt_a2c_means[:22], \n",
    "    rand_a2c_means[:22],\n",
    ")).T\n",
    "\n",
    "\n",
    "data_std = np.vstack((\n",
    "    hs_a2c_stddev, \n",
    "    hb_a2c_stddev[:22],\n",
    "    skopt_a2c_stddev[:22],\n",
    "    rand_a2c_stddev[:22]\n",
    ")).T\n",
    "\n",
    "data_n = np.tile(np.array([22, 22, 22, 22]).T,[n_frames,1])\n",
    "data_names = ['HyperSpace A2C','HyperBand A2C', 'Scikit-Optimize', 'Random Search']\n",
    "welch_t_perf_prof(data_means,data_std,data_n,data_names)"
   ]
  },
  {
   "cell_type": "markdown",
   "metadata": {},
   "source": [
    "### ACER Enduro"
   ]
  },
  {
   "cell_type": "code",
   "execution_count": 97,
   "metadata": {},
   "outputs": [],
   "source": [
    "hyperspace_acer = get_acer_path(path, 'hyperspace')\n",
    "hyperband_acer = get_acer_path(path, 'hyperband')\n",
    "skopt_acer = get_acer_path(path, 'skopt')\n",
    "random_acer = get_acer_path(path, 'random')"
   ]
  },
  {
   "cell_type": "code",
   "execution_count": 79,
   "metadata": {},
   "outputs": [
    {
     "name": "stdout",
     "output_type": "stream",
     "text": [
      "Number of results: 50\n"
     ]
    }
   ],
   "source": [
    "_, hs_acer_mean, hs_acer_stddev = get_stats(hyperband_acer)"
   ]
  },
  {
   "cell_type": "code",
   "execution_count": 80,
   "metadata": {},
   "outputs": [
    {
     "name": "stdout",
     "output_type": "stream",
     "text": [
      "Number of results: 50\n"
     ]
    }
   ],
   "source": [
    "_, hb_acer_mean, hb_acer_stddev = get_stats(hyperband_acer)"
   ]
  },
  {
   "cell_type": "code",
   "execution_count": 81,
   "metadata": {},
   "outputs": [
    {
     "name": "stdout",
     "output_type": "stream",
     "text": [
      "Number of results: 50\n"
     ]
    }
   ],
   "source": [
    "_, skopt_acer_means, skopt_acer_stddev = get_stats(skopt_acer)"
   ]
  },
  {
   "cell_type": "code",
   "execution_count": 82,
   "metadata": {},
   "outputs": [
    {
     "name": "stdout",
     "output_type": "stream",
     "text": [
      "Number of results: 12\n"
     ]
    }
   ],
   "source": [
    "_, rand_acer_means, rand_acer_stddev = get_stats(random_acer)"
   ]
  },
  {
   "cell_type": "code",
   "execution_count": 90,
   "metadata": {},
   "outputs": [
    {
     "name": "stderr",
     "output_type": "stream",
     "text": [
      "/Users/yngtodd/src/checkout/anaconda3/lib/python3.7/site-packages/ipykernel_launcher.py:8: RuntimeWarning: invalid value encountered in double_scalars\n",
      "  \n",
      "/Users/yngtodd/src/checkout/anaconda3/lib/python3.7/site-packages/ipykernel_launcher.py:10: RuntimeWarning: invalid value encountered in double_scalars\n",
      "  # Remove the CWD from sys.path while we load stuff.\n"
     ]
    },
    {
     "data": {
      "image/png": "[encoded data removed]",
      "text/plain": [
       "<Figure size 432x288 with 1 Axes>"
      ]
     },
     "metadata": {
      "needs_background": "light"
     },
     "output_type": "display_data"
    }
   ],
   "source": [
    "data_means = np.vstack((\n",
    "    hs_acer_mean[:12], \n",
    "    hb_acer_mean[:12], \n",
    "    skopt_acer_means[:12], \n",
    "    rand_acer_means[:12]\n",
    ")).T \n",
    "\n",
    "\n",
    "data_std = np.vstack((\n",
    "    hs_acer_stddev[:12], \n",
    "    hb_acer_stddev[:12],\n",
    "    skopt_acer_stddev[:12],\n",
    "    rand_acer_stddev[:12]\n",
    ")).T \n",
    "\n",
    "data_n = np.tile(np.array([12, 12, 12, 12]).T,[n_frames,1])\n",
    "data_names = ['HyperSpace','HyperBand', 'Scikit-Optimize', 'Random Search']\n",
    "welch_t_perf_prof(data_means,data_std,data_n,data_names)"
   ]
  },
  {
   "cell_type": "markdown",
   "metadata": {},
   "source": [
    "### PPO QBERT"
   ]
  },
  {
   "cell_type": "code",
   "execution_count": 99,
   "metadata": {},
   "outputs": [],
   "source": [
    "hyperspace_ppo = get_ppo_path(path, 'hyperspace')\n",
    "hyperband_ppo = get_ppo_path(path, 'hyperband')\n",
    "skopt_ppo = get_ppo_path(path, 'skopt')\n",
    "random_ppo = get_ppo_path(path, 'rand')"
   ]
  },
  {
   "cell_type": "code",
   "execution_count": 93,
   "metadata": {},
   "outputs": [
    {
     "name": "stdout",
     "output_type": "stream",
     "text": [
      "Number of results: 78\n"
     ]
    }
   ],
   "source": [
    "_, hs_ppo_mean, hs_ppo_stddev = get_stats(hyperband_ppo)"
   ]
  },
  {
   "cell_type": "code",
   "execution_count": 94,
   "metadata": {},
   "outputs": [
    {
     "name": "stdout",
     "output_type": "stream",
     "text": [
      "Number of results: 78\n"
     ]
    }
   ],
   "source": [
    "_, hb_ppo_mean, hb_ppo_stddev = get_stats(hyperband_ppo)"
   ]
  },
  {
   "cell_type": "code",
   "execution_count": 95,
   "metadata": {},
   "outputs": [
    {
     "name": "stdout",
     "output_type": "stream",
     "text": [
      "Number of results: 27\n"
     ]
    }
   ],
   "source": [
    "_, skopt_ppo_means, skopt_ppo_stddev = get_stats(skopt_ppo)"
   ]
  },
  {
   "cell_type": "code",
   "execution_count": 100,
   "metadata": {},
   "outputs": [
    {
     "name": "stdout",
     "output_type": "stream",
     "text": [
      "Number of results: 40\n"
     ]
    }
   ],
   "source": [
    "_, rand_ppo_means, rand_ppo_stddev = get_stats(random_ppo)"
   ]
  },
  {
   "cell_type": "code",
   "execution_count": 103,
   "metadata": {},
   "outputs": [
    {
     "data": {
      "image/png": "[encoded data removed]",
      "text/plain": [
       "<Figure size 432x288 with 1 Axes>"
      ]
     },
     "metadata": {
      "needs_background": "light"
     },
     "output_type": "display_data"
    }
   ],
   "source": [
    "data_means = np.vstack((\n",
    "    hs_ppo_mean[:27], \n",
    "    hb_ppo_mean[:27], \n",
    "    skopt_ppo_means[:27], \n",
    "    rand_ppo_means[:27]\n",
    ")).T \n",
    "\n",
    "\n",
    "data_std = np.vstack((\n",
    "    hs_ppo_stddev[:27], \n",
    "    hb_ppo_stddev[:27],\n",
    "    skopt_ppo_stddev[:27],\n",
    "    rand_ppo_stddev[:27]\n",
    ")).T \n",
    "\n",
    "data_n = np.tile(np.array([27, 27, 27, 27]).T,[n_frames,1])\n",
    "data_names = ['HyperSpace','HyperBand', 'Scikit-Optimize', 'Random Search']\n",
    "welch_t_perf_prof(data_means,data_std,data_n,data_names)"
   ]
  },
  {
   "cell_type": "code",
   "execution_count": null,
   "metadata": {},
   "outputs": [],
   "source": []
  }
 ],
 "metadata": {
  "kernelspec": {
   "display_name": "Python 3",
   "language": "python",
   "name": "python3"
  },
  "language_info": {
   "codemirror_mode": {
    "name": "ipython",
    "version": 3
   },
   "file_extension": ".py",
   "mimetype": "text/x-python",
   "name": "python",
   "nbconvert_exporter": "python",
   "pygments_lexer": "ipython3",
   "version": "3.7.1"
  }
 },
 "nbformat": 4,
 "nbformat_minor": 2
}
