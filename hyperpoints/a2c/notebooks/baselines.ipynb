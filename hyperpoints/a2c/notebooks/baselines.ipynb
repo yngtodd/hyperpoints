{
 "cells": [
  {
   "cell_type": "code",
   "execution_count": 10,
   "metadata": {},
   "outputs": [],
   "source": [
    "from skopt import load\n",
    "from skopt.callbacks import CheckpointSaver\n",
    "\n",
    "from hyperspace.kepler.plots import plot_convergence\n",
    "\n",
    "import matplotlib\n",
    "import matplotlib.pyplot as plt\n",
    "%matplotlib inline \n",
    "\n",
    "matplotlib.rcParams['figure.figsize'] = (10.0, 10)"
   ]
  },
  {
   "cell_type": "code",
   "execution_count": 11,
   "metadata": {},
   "outputs": [],
   "source": [
    "def objective():\n",
    "    pass"
   ]
  },
  {
   "cell_type": "code",
   "execution_count": 23,
   "metadata": {},
   "outputs": [],
   "source": [
    "skopt_path = '/Users/yngtodd/src/develop/hyperpoints/hyperpoints/a2c/skopt/result200.pkl'\n",
    "hband_path = '/Users/yngtodd/src/develop/hyperpoints/hyperpoints/a2c/hyperband/result200.pkl'\n",
    "\n",
    "skopt_results = load(skopt_path)\n",
    "#skopt_results.func_vals = - skopt_results.func_vals\n",
    "\n",
    "hband_results = load(hband_path)"
   ]
  },
  {
   "cell_type": "code",
   "execution_count": 25,
   "metadata": {},
   "outputs": [
    {
     "data": {
      "text/plain": [
       "          fun: -2.595\n",
       "    func_vals: array([-2.595])\n",
       "       models: []\n",
       " random_state: <mtrand.RandomState object at 0x10f880120>\n",
       "        space: Space([Integer(low=2, high=10),\n",
       "       Integer(low=2, high=8),\n",
       "       Integer(low=3, high=8),\n",
       "       Real(low=0.0, high=0.99, prior='uniform', transform='identity')])\n",
       "        specs: {'args': {'n_jobs': 1, 'kappa': 1.96, 'xi': 0.01, 'n_restarts_optimizer': 5, 'n_points': 10000, 'callback': None, 'verbose': False, 'random_state': 0, 'y0': None, 'x0': [[5, 7, 3, 0.9688321588104365]], 'acq_optimizer': 'sampling', 'acq_func': 'EI', 'n_random_starts': -1, 'n_calls': 0, 'base_estimator': 'dummy', 'dimensions': [(2, 10), (2, 8), (3, 8), (0.0, 0.99)], 'func': <function objective at 0x10cf351e0>}, 'function': 'base_minimize'}\n",
       "            x: [5, 7, 3, 0.9688321588104365]\n",
       "      x_iters: [[5, 7, 3, 0.9688321588104365]]"
      ]
     },
     "execution_count": 25,
     "metadata": {},
     "output_type": "execute_result"
    }
   ],
   "source": [
    "hband_results"
   ]
  },
  {
   "cell_type": "code",
   "execution_count": 24,
   "metadata": {},
   "outputs": [
    {
     "data": {
      "text/plain": [
       "(<Figure size 720x720 with 1 Axes>,\n",
       " <matplotlib.axes._subplots.AxesSubplot at 0x10f86cfd0>)"
      ]
     },
     "execution_count": 24,
     "metadata": {},
     "output_type": "execute_result"
    },
    {
     "data": {
      "image/png": "[encoded data removed]",
      "text/plain": [
       "<Figure size 720x720 with 1 Axes>"
      ]
     },
     "metadata": {
      "needs_background": "light"
     },
     "output_type": "display_data"
    }
   ],
   "source": [
    "#fig=plt.figure(figsize=(20, 20), dpi= 80, facecolor='w', edgecolor='k')\n",
    "\n",
    "plot_convergence(skopt_results, hband_results)"
   ]
  },
  {
   "cell_type": "code",
   "execution_count": 20,
   "metadata": {},
   "outputs": [
    {
     "data": {
      "text/plain": [
       "array([1.3534, 1.3304, 1.3724, 1.3532, 1.301 , 1.4296, 1.3666, 1.2806,\n",
       "       1.3498, 1.3702, 8.8472, 1.3602, 1.3378, 1.3154, 1.3534, 8.962 ,\n",
       "       7.3554, 8.8788, 9.2038, 8.1434])"
      ]
     },
     "execution_count": 20,
     "metadata": {},
     "output_type": "execute_result"
    }
   ],
   "source": [
    "skopt_results.func_vals"
   ]
  },
  {
   "cell_type": "code",
   "execution_count": 17,
   "metadata": {},
   "outputs": [
    {
     "data": {
      "text/plain": [
       "9.2038"
      ]
     },
     "execution_count": 17,
     "metadata": {},
     "output_type": "execute_result"
    }
   ],
   "source": [
    "- skopt_results.fun"
   ]
  },
  {
   "cell_type": "code",
   "execution_count": null,
   "metadata": {},
   "outputs": [],
   "source": []
  }
 ],
 "metadata": {
  "kernelspec": {
   "display_name": "Python 3",
   "language": "python",
   "name": "python3"
  },
  "language_info": {
   "codemirror_mode": {
    "name": "ipython",
    "version": 3
   },
   "file_extension": ".py",
   "mimetype": "text/x-python",
   "name": "python",
   "nbconvert_exporter": "python",
   "pygments_lexer": "ipython3",
   "version": "3.7.0"
  }
 },
 "nbformat": 4,
 "nbformat_minor": 2
}
